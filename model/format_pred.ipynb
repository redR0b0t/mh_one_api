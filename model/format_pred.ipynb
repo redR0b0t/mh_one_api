{
 "cells": [
  {
   "cell_type": "code",
   "execution_count": 26,
   "metadata": {},
   "outputs": [],
   "source": [
    "\n",
    "import numpy as np\n",
    "import pandas as pd"
   ]
  },
  {
   "cell_type": "code",
   "execution_count": 27,
   "metadata": {},
   "outputs": [],
   "source": [
    "# with open(\"/home/u131168/mh_one_api/data/sub_flant5_pred.csv\",'r') as f:\n",
    "#     file_content = f.read().split('\\n')\n",
    "#     print(file_content[31].replace(',','$$',1))\n",
    "#     for i in range(len(file_content)):\n",
    "#         file_content[i]=file_content[i].replace(',','$$',1)\n",
    "\n",
    "#     print(file_content)\n",
    "#     f.seek(0)\n",
    "#     # Set file’s current position to the beginning\n",
    "\n",
    "#     f.writelines(file_content)\n",
    "#     # my_file.seek(0)"
   ]
  },
  {
   "cell_type": "code",
   "execution_count": 28,
   "metadata": {},
   "outputs": [],
   "source": [
    "# print(file_content)"
   ]
  },
  {
   "cell_type": "code",
   "execution_count": 29,
   "metadata": {},
   "outputs": [
    {
     "name": "stderr",
     "output_type": "stream",
     "text": [
      "/tmp/ipykernel_1182946/894777664.py:6: ParserWarning: Falling back to the 'python' engine because the 'c' engine does not support regex separators (separators > 1 char and different from '\\s+' are interpreted as regex); you can avoid this warning by specifying engine='python'.\n",
      "  pred_data=pd.read_csv(pred_path,sep=\"\\$\\$\", header=None)\n"
     ]
    },
    {
     "data": {
      "text/html": [
       "<div>\n",
       "<style scoped>\n",
       "    .dataframe tbody tr th:only-of-type {\n",
       "        vertical-align: middle;\n",
       "    }\n",
       "\n",
       "    .dataframe tbody tr th {\n",
       "        vertical-align: top;\n",
       "    }\n",
       "\n",
       "    .dataframe thead th {\n",
       "        text-align: right;\n",
       "    }\n",
       "</style>\n",
       "<table border=\"1\" class=\"dataframe\">\n",
       "  <thead>\n",
       "    <tr style=\"text-align: right;\">\n",
       "      <th></th>\n",
       "      <th>index</th>\n",
       "      <th>answer</th>\n",
       "    </tr>\n",
       "  </thead>\n",
       "  <tbody>\n",
       "  </tbody>\n",
       "</table>\n",
       "</div>"
      ],
      "text/plain": [
       "Empty DataFrame\n",
       "Columns: [index, answer]\n",
       "Index: []"
      ]
     },
     "execution_count": 29,
     "metadata": {},
     "output_type": "execute_result"
    }
   ],
   "source": [
    "pred_path=\"/home/u131168/mh_one_api/data/flant5_pred/full_pred.csv\"\n",
    "# pred_path=\"/home/u131168/mh_one_api/data/flant5_pred/0_10k.csv\"\n",
    "\n",
    "formatted_sub_path=\"/home/u131168/mh_one_api/data/sub_ft5.csv\"\n",
    "\n",
    "pred_data=pd.read_csv(pred_path,sep=\"\\$\\$\", header=None)\n",
    "pred_data.columns=['index','answer']\n",
    "# pred_data=pred_data.iloc[6000:7000]\n",
    "pred_data.fillna(\"unknown\", inplace = True)\n",
    "pred_data.isna().sum()\n",
    "pred_data[pred_data.isna().any(axis=1)]"
   ]
  },
  {
   "cell_type": "code",
   "execution_count": 34,
   "metadata": {},
   "outputs": [
    {
     "data": {
      "text/html": [
       "<div>\n",
       "<style scoped>\n",
       "    .dataframe tbody tr th:only-of-type {\n",
       "        vertical-align: middle;\n",
       "    }\n",
       "\n",
       "    .dataframe tbody tr th {\n",
       "        vertical-align: top;\n",
       "    }\n",
       "\n",
       "    .dataframe thead th {\n",
       "        text-align: right;\n",
       "    }\n",
       "</style>\n",
       "<table border=\"1\" class=\"dataframe\">\n",
       "  <thead>\n",
       "    <tr style=\"text-align: right;\">\n",
       "      <th></th>\n",
       "      <th>Answer</th>\n",
       "    </tr>\n",
       "  </thead>\n",
       "  <tbody>\n",
       "    <tr>\n",
       "      <th>0</th>\n",
       "      <td>Anxious</td>\n",
       "    </tr>\n",
       "    <tr>\n",
       "      <th>1</th>\n",
       "      <td>125 million</td>\n",
       "    </tr>\n",
       "    <tr>\n",
       "      <th>2</th>\n",
       "      <td>20</td>\n",
       "    </tr>\n",
       "    <tr>\n",
       "      <th>3</th>\n",
       "      <td>David Petraeus remained stoically aloof as a s...</td>\n",
       "    </tr>\n",
       "    <tr>\n",
       "      <th>4</th>\n",
       "      <td>She wants to wait</td>\n",
       "    </tr>\n",
       "    <tr>\n",
       "      <th>...</th>\n",
       "      <td>...</td>\n",
       "    </tr>\n",
       "    <tr>\n",
       "      <th>28543</th>\n",
       "      <td>prelate, a warlike and active partisan,</td>\n",
       "    </tr>\n",
       "    <tr>\n",
       "      <th>28544</th>\n",
       "      <td>the master</td>\n",
       "    </tr>\n",
       "    <tr>\n",
       "      <th>28545</th>\n",
       "      <td>\"Be happy while you can,\" he said, \"with bitte...</td>\n",
       "    </tr>\n",
       "    <tr>\n",
       "      <th>28546</th>\n",
       "      <td>at Mr. Seely's</td>\n",
       "    </tr>\n",
       "    <tr>\n",
       "      <th>28547</th>\n",
       "      <td>lizard</td>\n",
       "    </tr>\n",
       "  </tbody>\n",
       "</table>\n",
       "<p>28548 rows × 1 columns</p>\n",
       "</div>"
      ],
      "text/plain": [
       "                                                  Answer\n",
       "0                                                Anxious\n",
       "1                                            125 million\n",
       "2                                                     20\n",
       "3      David Petraeus remained stoically aloof as a s...\n",
       "4                                      She wants to wait\n",
       "...                                                  ...\n",
       "28543            prelate, a warlike and active partisan,\n",
       "28544                                         the master\n",
       "28545  \"Be happy while you can,\" he said, \"with bitte...\n",
       "28546                                     at Mr. Seely's\n",
       "28547                                             lizard\n",
       "\n",
       "[28548 rows x 1 columns]"
      ]
     },
     "execution_count": 34,
     "metadata": {},
     "output_type": "execute_result"
    }
   ],
   "source": [
    "temListPre=[0 for i in range(0,pred_data.iloc[0,0]-1)]\n",
    "res=pred_data['answer'].tolist()\n",
    "temListPost=[0 for i in range(28548-(len(res)+len(temListPre)))]\n",
    "submission_data=pd.Series(temListPre+res+temListPost,name=\"Answer\")\n",
    "submission_data=pd.DataFrame(submission_data)\n",
    "submission_data['Answer']=submission_data['Answer'].apply(lambda x: str(x).strip())\n",
    "submission_data\n"
   ]
  },
  {
   "cell_type": "code",
   "execution_count": 31,
   "metadata": {},
   "outputs": [],
   "source": [
    "# submission_data.dtypes\n",
    "# submission_data['Answer']=submission_data['Answer'].astype(\"category\")\n",
    "# submission_data.dtypes\n",
    "# submission_data.iloc[30:33]\n",
    "\n"
   ]
  },
  {
   "cell_type": "code",
   "execution_count": 35,
   "metadata": {},
   "outputs": [
    {
     "data": {
      "text/plain": [
       "Answer    category\n",
       "dtype: object"
      ]
     },
     "execution_count": 35,
     "metadata": {},
     "output_type": "execute_result"
    }
   ],
   "source": [
    "# # removing possible float values\n",
    "# submission_data['Answer']=submission_data['Answer'].apply(lambda x : 0 if '.' in str(x)  else x)\n",
    "# submission_data['Answer']=submission_data['Answer'].apply(lambda x : 0 if any(chr.isdigit() for chr in str(x))  else x)\n",
    "# submission_data['Answer']=submission_data['Answer'].apply(lambda x : 0 if '–' in str(x)  else x)\n",
    "# submission_data['Answer']=submission_data['Answer'].apply(lambda x : 0 if '‘' in str(x)  else x)\n",
    "# submission_data['Answer']=submission_data['Answer'].apply(lambda x : 0 if '«' in str(x)  else x)\n",
    "\n",
    "# submission_data['Answer']=submission_data['Answer'].apply(lambda x : 0 if '-' in str(x)  else x)\n",
    "\n",
    "\n",
    "submission_data['Answer']=submission_data['Answer'].astype(\"category\")\n",
    "submission_data.dtypes"
   ]
  },
  {
   "cell_type": "code",
   "execution_count": 36,
   "metadata": {},
   "outputs": [
    {
     "data": {
      "text/html": [
       "<div>\n",
       "<style scoped>\n",
       "    .dataframe tbody tr th:only-of-type {\n",
       "        vertical-align: middle;\n",
       "    }\n",
       "\n",
       "    .dataframe tbody tr th {\n",
       "        vertical-align: top;\n",
       "    }\n",
       "\n",
       "    .dataframe thead th {\n",
       "        text-align: right;\n",
       "    }\n",
       "</style>\n",
       "<table border=\"1\" class=\"dataframe\">\n",
       "  <thead>\n",
       "    <tr style=\"text-align: right;\">\n",
       "      <th></th>\n",
       "      <th>Answer</th>\n",
       "    </tr>\n",
       "  </thead>\n",
       "  <tbody>\n",
       "    <tr>\n",
       "      <th>0</th>\n",
       "      <td>Anxious</td>\n",
       "    </tr>\n",
       "    <tr>\n",
       "      <th>1</th>\n",
       "      <td>125 million</td>\n",
       "    </tr>\n",
       "    <tr>\n",
       "      <th>2</th>\n",
       "      <td>20</td>\n",
       "    </tr>\n",
       "    <tr>\n",
       "      <th>3</th>\n",
       "      <td>David Petraeus remained stoically aloof as a s...</td>\n",
       "    </tr>\n",
       "    <tr>\n",
       "      <th>4</th>\n",
       "      <td>She wants to wait</td>\n",
       "    </tr>\n",
       "    <tr>\n",
       "      <th>...</th>\n",
       "      <td>...</td>\n",
       "    </tr>\n",
       "    <tr>\n",
       "      <th>28543</th>\n",
       "      <td>prelate, a warlike and active partisan,</td>\n",
       "    </tr>\n",
       "    <tr>\n",
       "      <th>28544</th>\n",
       "      <td>the master</td>\n",
       "    </tr>\n",
       "    <tr>\n",
       "      <th>28545</th>\n",
       "      <td>\"Be happy while you can,\" he said, \"with bitte...</td>\n",
       "    </tr>\n",
       "    <tr>\n",
       "      <th>28546</th>\n",
       "      <td>at Mr. Seely's</td>\n",
       "    </tr>\n",
       "    <tr>\n",
       "      <th>28547</th>\n",
       "      <td>lizard</td>\n",
       "    </tr>\n",
       "  </tbody>\n",
       "</table>\n",
       "<p>28548 rows × 1 columns</p>\n",
       "</div>"
      ],
      "text/plain": [
       "                                                  Answer\n",
       "0                                                Anxious\n",
       "1                                            125 million\n",
       "2                                                     20\n",
       "3      David Petraeus remained stoically aloof as a s...\n",
       "4                                      She wants to wait\n",
       "...                                                  ...\n",
       "28543            prelate, a warlike and active partisan,\n",
       "28544                                         the master\n",
       "28545  \"Be happy while you can,\" he said, \"with bitte...\n",
       "28546                                     at Mr. Seely's\n",
       "28547                                             lizard\n",
       "\n",
       "[28548 rows x 1 columns]"
      ]
     },
     "execution_count": 36,
     "metadata": {},
     "output_type": "execute_result"
    }
   ],
   "source": [
    "import csv\n",
    "# submission_data.to_csv(formatted_sub_path,index=False,quoting=csv.QUOTE_ALL)\n",
    "\n",
    "submission_data.to_csv(formatted_sub_path,index=False)\n",
    "# submission_data.iloc[520:524]\n",
    "submission_data"
   ]
  },
  {
   "cell_type": "code",
   "execution_count": null,
   "metadata": {},
   "outputs": [],
   "source": []
  }
 ],
 "metadata": {
  "kernelspec": {
   "display_name": "base",
   "language": "python",
   "name": "python3"
  },
  "language_info": {
   "codemirror_mode": {
    "name": "ipython",
    "version": 3
   },
   "file_extension": ".py",
   "mimetype": "text/x-python",
   "name": "python",
   "nbconvert_exporter": "python",
   "pygments_lexer": "ipython3",
   "version": "3.10.10"
  },
  "orig_nbformat": 4
 },
 "nbformat": 4,
 "nbformat_minor": 2
}
