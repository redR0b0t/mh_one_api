{
 "cells": [
  {
   "cell_type": "code",
   "execution_count": 1,
   "metadata": {},
   "outputs": [],
   "source": [
    "\n",
    "import numpy as np\n",
    "import pandas as pd"
   ]
  },
  {
   "cell_type": "code",
   "execution_count": 2,
   "metadata": {},
   "outputs": [],
   "source": [
    "\n",
    "\n",
    "train_path=\"/home/u131168/mh_one_api/data/train.csv\"\n",
    "test_path=\"/home/u131168/mh_one_api/data/test.csv\"\n",
    "submission_path=\"/home/u131168/mh_one_api/data/submission.csv\"\n",
    "\n",
    "train_data=pd.read_csv(train_path)\n",
    "test_data=pd.read_csv(test_path)\n",
    "submission_data=pd.read_csv(submission_path)\n",
    "\n",
    "\n",
    "train_data\n",
    "train_data.fillna(0,inplace=True)\n",
    "\n",
    "\n",
    "train_data.rename(columns = {'Story':'input','Question':'instruction','Answer':'output'}, inplace = True)\n",
    "# train_data['input']=train_data.apply(lambda x: strip_input(x[0],x[4]),axis=1)\n",
    "# train_data=train_data[['input','instruction','output']]\n",
    "# train_data.isna().sum()\n",
    "train_data=train_data[['input','instruction','output']]\n",
    "train_data['input']=train_data['input'].apply(lambda x: f'paragraph:  '+str(x).replace(r\"\\n\",'.'))\n",
    "train_data['instruction']=train_data['instruction'].apply(lambda x: f'Answer the following question from the paragraph : Question: {x}')\n",
    "train_data['output']=train_data['output'].apply(lambda x:str(x).strip())\n",
    "train_data[train_data['output']=='unknown']\n",
    "train_data[train_data['output']=='']\n",
    "train_data=train_data[train_data['output']!='unknown']\n",
    "# train_data.isna().sum()\n",
    "# train_data[:25]\n",
    "# train_data.iloc[22,0]"
   ]
  },
  {
   "cell_type": "code",
   "execution_count": 3,
   "metadata": {},
   "outputs": [],
   "source": [
    "# train_data.to_csv(\"/home/u131168/mh_one_api/data/train_split/full_traind1.csv\",index=False)\n"
   ]
  },
  {
   "cell_type": "code",
   "execution_count": 6,
   "metadata": {},
   "outputs": [
    {
     "data": {
      "text/html": [
       "<div>\n",
       "<style scoped>\n",
       "    .dataframe tbody tr th:only-of-type {\n",
       "        vertical-align: middle;\n",
       "    }\n",
       "\n",
       "    .dataframe tbody tr th {\n",
       "        vertical-align: top;\n",
       "    }\n",
       "\n",
       "    .dataframe thead th {\n",
       "        text-align: right;\n",
       "    }\n",
       "</style>\n",
       "<table border=\"1\" class=\"dataframe\">\n",
       "  <thead>\n",
       "    <tr style=\"text-align: right;\">\n",
       "      <th></th>\n",
       "      <th>input</th>\n",
       "      <th>instruction</th>\n",
       "      <th>output</th>\n",
       "    </tr>\n",
       "  </thead>\n",
       "  <tbody>\n",
       "    <tr>\n",
       "      <th>0</th>\n",
       "      <td>paragraph:  CHAPTER IV. \\n\\nNotwithstanding th...</td>\n",
       "      <td>Answer the following question from the paragra...</td>\n",
       "      <td>mirth and sadness</td>\n",
       "    </tr>\n",
       "    <tr>\n",
       "      <th>1</th>\n",
       "      <td>paragraph:  (CNN) -- Polk County, Florida, det...</td>\n",
       "      <td>Answer the following question from the paragra...</td>\n",
       "      <td>robbery</td>\n",
       "    </tr>\n",
       "    <tr>\n",
       "      <th>2</th>\n",
       "      <td>paragraph:  Malawi (, or ; or [maláwi]), offic...</td>\n",
       "      <td>Answer the following question from the paragra...</td>\n",
       "      <td>No</td>\n",
       "    </tr>\n",
       "    <tr>\n",
       "      <th>3</th>\n",
       "      <td>paragraph:  CHAPTER XXXII. \\n\\nMR. GILMORE'S S...</td>\n",
       "      <td>Answer the following question from the paragra...</td>\n",
       "      <td>Everything</td>\n",
       "    </tr>\n",
       "    <tr>\n",
       "      <th>4</th>\n",
       "      <td>paragraph:  CHAPTER XV--THE END OF THE MEETING...</td>\n",
       "      <td>Answer the following question from the paragra...</td>\n",
       "      <td>with feminine intuition</td>\n",
       "    </tr>\n",
       "    <tr>\n",
       "      <th>...</th>\n",
       "      <td>...</td>\n",
       "      <td>...</td>\n",
       "      <td>...</td>\n",
       "    </tr>\n",
       "    <tr>\n",
       "      <th>395077</th>\n",
       "      <td>paragraph:  CHAPTER I--PROGRESS OF THE HOUSE \\...</td>\n",
       "      <td>Answer the following question from the paragra...</td>\n",
       "      <td>Apri</td>\n",
       "    </tr>\n",
       "    <tr>\n",
       "      <th>395078</th>\n",
       "      <td>paragraph:  Hong Kong (CNN) -- A car theft in ...</td>\n",
       "      <td>Answer the following question from the paragra...</td>\n",
       "      <td>grey</td>\n",
       "    </tr>\n",
       "    <tr>\n",
       "      <th>395079</th>\n",
       "      <td>paragraph:  CHAPTER III \\n\\nThe morning of dep...</td>\n",
       "      <td>Answer the following question from the paragra...</td>\n",
       "      <td>Eleanor.</td>\n",
       "    </tr>\n",
       "    <tr>\n",
       "      <th>395080</th>\n",
       "      <td>paragraph:  New York (CNN) -- Two New York men...</td>\n",
       "      <td>Answer the following question from the paragra...</td>\n",
       "      <td>stole Price's wallet and other personal proper...</td>\n",
       "    </tr>\n",
       "    <tr>\n",
       "      <th>395081</th>\n",
       "      <td>paragraph:  Akrotiri and Dhekelia, officially ...</td>\n",
       "      <td>Answer the following question from the paragra...</td>\n",
       "      <td>strategic location of the island</td>\n",
       "    </tr>\n",
       "  </tbody>\n",
       "</table>\n",
       "<p>395082 rows × 3 columns</p>\n",
       "</div>"
      ],
      "text/plain": [
       "                                                    input  \\\n",
       "0       paragraph:  CHAPTER IV. \\n\\nNotwithstanding th...   \n",
       "1       paragraph:  (CNN) -- Polk County, Florida, det...   \n",
       "2       paragraph:  Malawi (, or ; or [maláwi]), offic...   \n",
       "3       paragraph:  CHAPTER XXXII. \\n\\nMR. GILMORE'S S...   \n",
       "4       paragraph:  CHAPTER XV--THE END OF THE MEETING...   \n",
       "...                                                   ...   \n",
       "395077  paragraph:  CHAPTER I--PROGRESS OF THE HOUSE \\...   \n",
       "395078  paragraph:  Hong Kong (CNN) -- A car theft in ...   \n",
       "395079  paragraph:  CHAPTER III \\n\\nThe morning of dep...   \n",
       "395080  paragraph:  New York (CNN) -- Two New York men...   \n",
       "395081  paragraph:  Akrotiri and Dhekelia, officially ...   \n",
       "\n",
       "                                              instruction  \\\n",
       "0       Answer the following question from the paragra...   \n",
       "1       Answer the following question from the paragra...   \n",
       "2       Answer the following question from the paragra...   \n",
       "3       Answer the following question from the paragra...   \n",
       "4       Answer the following question from the paragra...   \n",
       "...                                                   ...   \n",
       "395077  Answer the following question from the paragra...   \n",
       "395078  Answer the following question from the paragra...   \n",
       "395079  Answer the following question from the paragra...   \n",
       "395080  Answer the following question from the paragra...   \n",
       "395081  Answer the following question from the paragra...   \n",
       "\n",
       "                                                   output  \n",
       "0                                       mirth and sadness  \n",
       "1                                                 robbery  \n",
       "2                                                      No  \n",
       "3                                              Everything  \n",
       "4                                 with feminine intuition  \n",
       "...                                                   ...  \n",
       "395077                                               Apri  \n",
       "395078                                               grey  \n",
       "395079                                           Eleanor.  \n",
       "395080  stole Price's wallet and other personal proper...  \n",
       "395081                   strategic location of the island  \n",
       "\n",
       "[395082 rows x 3 columns]"
      ]
     },
     "execution_count": 6,
     "metadata": {},
     "output_type": "execute_result"
    }
   ],
   "source": [
    "f_traind_v1_path=\"/home/u131168/mh_one_api/data/train_split/f_traind_v1.csv\"\n",
    "f_traind=train_data\n",
    "f_traind_v1=f_traind\n",
    "for i in range(5):\n",
    "    f_traind_v1=pd.concat([f_traind_v1,f_traind]).reset_index(drop=True)\n",
    "\n",
    "f_traind_v1.to_csv(f_traind_v1_path)\n",
    "f_traind_v1\n"
   ]
  },
  {
   "cell_type": "code",
   "execution_count": null,
   "metadata": {},
   "outputs": [
    {
     "data": {
      "text/plain": [
       "'Answer the following question from the paragraph : Question: What emotions did she show?'"
      ]
     },
     "execution_count": 4,
     "metadata": {},
     "output_type": "execute_result"
    }
   ],
   "source": [
    "td=pd.read_csv(\"/home/u131168/mh_one_api/data/train_split/full_traind1.csv\")\n",
    "td.iloc[0,1]\n",
    "# td\n",
    "# td[td['output']=='unknown']\n",
    "# td.isna().sum()"
   ]
  },
  {
   "cell_type": "code",
   "execution_count": null,
   "metadata": {},
   "outputs": [],
   "source": []
  },
  {
   "cell_type": "code",
   "execution_count": null,
   "metadata": {},
   "outputs": [],
   "source": []
  },
  {
   "cell_type": "code",
   "execution_count": null,
   "metadata": {},
   "outputs": [],
   "source": []
  },
  {
   "cell_type": "code",
   "execution_count": null,
   "metadata": {},
   "outputs": [],
   "source": []
  }
 ],
 "metadata": {
  "kernelspec": {
   "display_name": "base",
   "language": "python",
   "name": "python3"
  },
  "language_info": {
   "codemirror_mode": {
    "name": "ipython",
    "version": 3
   },
   "file_extension": ".py",
   "mimetype": "text/x-python",
   "name": "python",
   "nbconvert_exporter": "python",
   "pygments_lexer": "ipython3",
   "version": "3.10.10"
  },
  "orig_nbformat": 4
 },
 "nbformat": 4,
 "nbformat_minor": 2
}
