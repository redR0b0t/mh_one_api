{
 "cells": [
  {
   "cell_type": "code",
   "execution_count": 1,
   "metadata": {},
   "outputs": [],
   "source": [
    "\n",
    "import numpy as np\n",
    "import pandas as pd"
   ]
  },
  {
   "cell_type": "code",
   "execution_count": 7,
   "metadata": {},
   "outputs": [],
   "source": [
    "\n",
    "\n",
    "train_path=\"/home/u131168/mh_one_api/data/train.csv\"\n",
    "test_path=\"/home/u131168/mh_one_api/data/test.csv\"\n",
    "submission_path=\"/home/u131168/mh_one_api/data/submission.csv\"\n",
    "\n",
    "train_data=pd.read_csv(train_path)\n",
    "test_data=pd.read_csv(test_path)\n",
    "submission_data=pd.read_csv(submission_path)\n",
    "\n",
    "\n",
    "train_data\n",
    "train_data.fillna(0,inplace=True)\n",
    "\n",
    "\n",
    "train_data.rename(columns = {'Story':'input','Question':'instruction','Answer':'output'}, inplace = True)\n",
    "# train_data['input']=train_data.apply(lambda x: strip_input(x[0],x[4]),axis=1)\n",
    "# train_data=train_data[['input','instruction','output']]\n",
    "# train_data.isna().sum()\n",
    "train_data=train_data[['input','instruction','output']]\n",
    "train_data['input']=train_data['input'].apply(lambda x: f'paragraph:  {x}')\n",
    "train_data['instruction']=train_data['instruction'].apply(lambda x: f'Answer the following question from the paragraph : Question: {x}')\n",
    "train_data['output']=train_data['output'].apply(lambda x:str(x).strip())\n",
    "train_data[train_data['output']=='unknown']\n",
    "train_data[train_data['output']=='']\n",
    "train_data=train_data[train_data['output']!='unknown']\n",
    "# train_data.isna().sum()\n",
    "# train_data[:25]\n",
    "# train_data.iloc[22,0]"
   ]
  },
  {
   "cell_type": "code",
   "execution_count": 8,
   "metadata": {},
   "outputs": [],
   "source": [
    "train_data.to_csv(\"/home/u131168/mh_one_api/data/train_split/full_traind1.csv\",index=False)\n"
   ]
  },
  {
   "cell_type": "code",
   "execution_count": 11,
   "metadata": {},
   "outputs": [
    {
     "data": {
      "text/plain": [
       "'Answer the following question from the paragraph : Question: What emotions did she show?'"
      ]
     },
     "execution_count": 11,
     "metadata": {},
     "output_type": "execute_result"
    }
   ],
   "source": [
    "td=pd.read_csv(\"/home/u131168/mh_one_api/data/train_split/full_traind1.csv\")\n",
    "td.iloc[0,1]\n",
    "# td\n",
    "# td[td['output']=='unknown']\n",
    "# td.isna().sum()"
   ]
  },
  {
   "cell_type": "code",
   "execution_count": null,
   "metadata": {},
   "outputs": [],
   "source": []
  },
  {
   "cell_type": "code",
   "execution_count": null,
   "metadata": {},
   "outputs": [],
   "source": []
  },
  {
   "cell_type": "code",
   "execution_count": null,
   "metadata": {},
   "outputs": [],
   "source": []
  },
  {
   "cell_type": "code",
   "execution_count": null,
   "metadata": {},
   "outputs": [],
   "source": []
  }
 ],
 "metadata": {
  "kernelspec": {
   "display_name": "base",
   "language": "python",
   "name": "python3"
  },
  "language_info": {
   "codemirror_mode": {
    "name": "ipython",
    "version": 3
   },
   "file_extension": ".py",
   "mimetype": "text/x-python",
   "name": "python",
   "nbconvert_exporter": "python",
   "pygments_lexer": "ipython3",
   "version": "3.10.10"
  },
  "orig_nbformat": 4
 },
 "nbformat": 4,
 "nbformat_minor": 2
}
